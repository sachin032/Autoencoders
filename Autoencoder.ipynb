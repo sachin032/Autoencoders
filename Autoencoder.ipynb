{
 "cells": [
  {
   "cell_type": "code",
   "execution_count": 1,
   "metadata": {
    "scrolled": true
   },
   "outputs": [
    {
     "name": "stdout",
     "output_type": "stream",
     "text": [
      "WARNING:tensorflow:From /home/sachin/anaconda3/lib/python3.7/site-packages/tensorflow_core/python/compat/v2_compat.py:65: disable_resource_variables (from tensorflow.python.ops.variable_scope) is deprecated and will be removed in a future version.\n",
      "Instructions for updating:\n",
      "non-resource variables are not supported in the long term\n"
     ]
    }
   ],
   "source": [
    "import numpy as np\n",
    "import tensorflow.compat.v1 as tf\n",
    "tf.disable_v2_behavior() "
   ]
  },
  {
   "cell_type": "code",
   "execution_count": 2,
   "metadata": {},
   "outputs": [],
   "source": [
    "class Autoencoder():    \n",
    "    def __init__(self,input_dim,hidden_dim , epochs = 250 , learning_rate = 0.001):\n",
    "        \n",
    "        self.epochs = epochs # Number of learning cycles\n",
    "        self.learning_rate = learning_rate # Learning rate to control the learning speed\n",
    "    \n",
    "        x = tf.placeholder(dtype= tf.float32 ,\n",
    "                          shape= [None,input_dim]\n",
    "                          ) #input data as tensor X \n",
    "        self.x =  x\n",
    "        \n",
    "        with tf.name_scope('encode'):\n",
    "            weights = tf.Variable(tf.random_normal([input_dim,hidden_dim]),\n",
    "                                 dtype = tf.float32,\n",
    "                                 name ='weights')\n",
    "\n",
    "            biases = tf.Variable(tf.zeros([hidden_dim]),\n",
    "                                name = 'biasses')\n",
    "            encoded = tf.nn.tanh(tf.matmul(x,weights)+biases)\n",
    "            \n",
    "        with tf.name_scope('decode'):\n",
    "            weights = tf.Variable(tf.random_normal([hidden_dim, input_dim],dtype=tf.float32), name='weights')\n",
    "            \n",
    "            biases = tf.Variable(tf.zeros([input_dim]),\n",
    "                                name = 'biasses')\n",
    "            decoded = tf.matmul(encoded,weights)+biases\n",
    "        \n",
    "        self.encoded = encoded\n",
    "        \n",
    "        self.decoded = decoded\n",
    "        \n",
    "        self.loss = tf.sqrt(\n",
    "            tf.reduce_mean(\n",
    "                tf.square(\n",
    "                    tf.subtract(\n",
    "                        self.x,\n",
    "                        self.decoded\n",
    "                    )\n",
    "                )\n",
    "            )\n",
    "        )\n",
    "        \n",
    "        self.train_op = tf.train.AdamOptimizer(self.learning_rate).minimize(self.loss)\n",
    "        \n",
    "        self.saver = tf.train.Saver()\n",
    "    \n",
    "    def train(self,data):\n",
    "        num_samples = len(data)\n",
    "        loss_rate = list()\n",
    "        #Intialize tensorflow session and intialize all variables\n",
    "        with tf.Session() as sess:\n",
    "            sess.run(tf.global_variables_initializer())\n",
    "            \n",
    "            #within the session iterate over every epoch for set of entire samples\n",
    "            for epoch in range(self.epochs):\n",
    "                #every sample to be passe to the model for training\n",
    "                for sample in range(num_samples):\n",
    "                    l,_ = sess.run([self.loss,self.train_op],\n",
    "                                  feed_dict={self.x:[data[sample]]})\n",
    "                    \n",
    "                if epoch%2 == 0:\n",
    "                    print('epoch {0} : loss = {1}'.format(epoch,l))\n",
    "                    loss_rate.append(l)\n",
    "                    self.saver.save(sess,'./model.h5')\n",
    "                self.saver.save(sess,'./model.h5')\n",
    "        return loss_rate\n",
    "\n",
    "\n",
    "    def test(self,data):\n",
    "        with tf.Session() as sess:\n",
    "            self.saver.restore(sess,'./model.h5')\n",
    "            hidden , reconstructed = sess.run([self.encoded,self.decoded],\n",
    "                                             feed_dict={self.x:data})\n",
    "            \n",
    "            print('Input :', data)\n",
    "            print('Compressed', hidden)\n",
    "            print('reconstructed', reconstructed)\n",
    "            return reconstructed  "
   ]
  },
  {
   "cell_type": "code",
   "execution_count": 3,
   "metadata": {
    "collapsed": true
   },
   "outputs": [
    {
     "name": "stdout",
     "output_type": "stream",
     "text": [
      "epoch 0 : loss = 3.7496228218078613\n",
      "epoch 2 : loss = 3.2099127769470215\n",
      "epoch 4 : loss = 2.711909770965576\n",
      "epoch 6 : loss = 2.2655961513519287\n",
      "epoch 8 : loss = 1.8835408687591553\n",
      "epoch 10 : loss = 1.5792607069015503\n",
      "epoch 12 : loss = 1.3484561443328857\n",
      "epoch 14 : loss = 1.1690287590026855\n",
      "epoch 16 : loss = 1.0220754146575928\n",
      "epoch 18 : loss = 0.8968209624290466\n",
      "epoch 20 : loss = 0.7682791352272034\n",
      "epoch 22 : loss = 0.6548095345497131\n",
      "epoch 24 : loss = 0.5638431310653687\n",
      "epoch 26 : loss = 0.4940331280231476\n",
      "epoch 28 : loss = 0.44290691614151\n",
      "epoch 30 : loss = 0.40715858340263367\n",
      "epoch 32 : loss = 0.3823601305484772\n",
      "epoch 34 : loss = 0.3652718663215637\n",
      "epoch 36 : loss = 0.3536060154438019\n",
      "epoch 38 : loss = 0.3456159830093384\n",
      "epoch 40 : loss = 0.34005045890808105\n",
      "epoch 42 : loss = 0.3361033499240875\n",
      "epoch 44 : loss = 0.3333621919155121\n",
      "epoch 46 : loss = 0.3318331241607666\n",
      "epoch 48 : loss = 0.33200803399086\n",
      "epoch 50 : loss = 0.3342956304550171\n",
      "epoch 52 : loss = 0.33718183636665344\n",
      "epoch 54 : loss = 0.3380143344402313\n",
      "epoch 56 : loss = 0.3363338112831116\n",
      "epoch 58 : loss = 0.33313605189323425\n",
      "epoch 60 : loss = 0.32928037643432617\n",
      "epoch 62 : loss = 0.3252282440662384\n",
      "epoch 64 : loss = 0.32118871808052063\n",
      "epoch 66 : loss = 0.31723859906196594\n",
      "epoch 68 : loss = 0.3133974075317383\n",
      "epoch 70 : loss = 0.30966120958328247\n",
      "epoch 72 : loss = 0.30602607131004333\n",
      "epoch 74 : loss = 0.3024991750717163\n",
      "epoch 76 : loss = 0.29909461736679077\n",
      "epoch 78 : loss = 0.295836865901947\n",
      "epoch 80 : loss = 0.2927490472793579\n",
      "epoch 82 : loss = 0.28985050320625305\n",
      "epoch 84 : loss = 0.28714612126350403\n",
      "epoch 86 : loss = 0.2846316993236542\n",
      "epoch 88 : loss = 0.28229519724845886\n",
      "epoch 90 : loss = 0.2801106572151184\n",
      "epoch 92 : loss = 0.27804824709892273\n",
      "epoch 94 : loss = 0.27607443928718567\n",
      "epoch 96 : loss = 0.2741457223892212\n",
      "epoch 98 : loss = 0.2722228467464447\n",
      "epoch 100 : loss = 0.2702571451663971\n",
      "epoch 102 : loss = 0.2682059705257416\n",
      "epoch 104 : loss = 0.2660348117351532\n",
      "epoch 106 : loss = 0.2637283205986023\n",
      "epoch 108 : loss = 0.2613004446029663\n",
      "epoch 110 : loss = 0.25878822803497314\n",
      "epoch 112 : loss = 0.25624921917915344\n",
      "epoch 114 : loss = 0.2537318468093872\n",
      "epoch 116 : loss = 0.2512686252593994\n",
      "epoch 118 : loss = 0.24887898564338684\n",
      "epoch 120 : loss = 0.2465628832578659\n",
      "epoch 122 : loss = 0.24432463943958282\n",
      "epoch 124 : loss = 0.2421673834323883\n",
      "epoch 126 : loss = 0.24009732902050018\n",
      "epoch 128 : loss = 0.2381218522787094\n",
      "epoch 130 : loss = 0.2362503558397293\n",
      "epoch 132 : loss = 0.2344842106103897\n",
      "epoch 134 : loss = 0.23282431066036224\n",
      "epoch 136 : loss = 0.23126891255378723\n",
      "epoch 138 : loss = 0.22981633245944977\n",
      "epoch 140 : loss = 0.22846102714538574\n",
      "epoch 142 : loss = 0.22719977796077728\n",
      "epoch 144 : loss = 0.2260269969701767\n",
      "epoch 146 : loss = 0.22494006156921387\n",
      "epoch 148 : loss = 0.22393330931663513\n",
      "epoch 150 : loss = 0.2230038344860077\n",
      "epoch 152 : loss = 0.22214607894420624\n",
      "epoch 154 : loss = 0.2213580459356308\n",
      "epoch 156 : loss = 0.2206379771232605\n",
      "epoch 158 : loss = 0.21998107433319092\n",
      "epoch 160 : loss = 0.21938587725162506\n",
      "epoch 162 : loss = 0.21885117888450623\n",
      "epoch 164 : loss = 0.21837469935417175\n",
      "epoch 166 : loss = 0.2179543673992157\n",
      "epoch 168 : loss = 0.21759016811847687\n",
      "epoch 170 : loss = 0.21727856993675232\n",
      "epoch 172 : loss = 0.21702100336551666\n",
      "epoch 174 : loss = 0.21681492030620575\n",
      "epoch 176 : loss = 0.21665968000888824\n",
      "epoch 178 : loss = 0.21655330061912537\n",
      "epoch 180 : loss = 0.21649429202079773\n",
      "epoch 182 : loss = 0.2164834886789322\n",
      "epoch 184 : loss = 0.21651925146579742\n",
      "epoch 186 : loss = 0.2165989875793457\n",
      "epoch 188 : loss = 0.21672323346138\n",
      "epoch 190 : loss = 0.2168886363506317\n",
      "epoch 192 : loss = 0.21709312498569489\n",
      "epoch 194 : loss = 0.2173350602388382\n",
      "epoch 196 : loss = 0.21761514246463776\n",
      "epoch 198 : loss = 0.21792474389076233\n",
      "epoch 200 : loss = 0.21826604008674622\n",
      "epoch 202 : loss = 0.21863506734371185\n",
      "epoch 204 : loss = 0.21902842819690704\n",
      "epoch 206 : loss = 0.2194414883852005\n",
      "epoch 208 : loss = 0.21987314522266388\n",
      "epoch 210 : loss = 0.22031930088996887\n",
      "epoch 212 : loss = 0.22077643871307373\n",
      "epoch 214 : loss = 0.2212393879890442\n",
      "epoch 216 : loss = 0.22170555591583252\n",
      "epoch 218 : loss = 0.22217050194740295\n",
      "epoch 220 : loss = 0.22262971103191376\n",
      "epoch 222 : loss = 0.22308136522769928\n",
      "epoch 224 : loss = 0.22351941466331482\n",
      "epoch 226 : loss = 0.2239414006471634\n",
      "epoch 228 : loss = 0.22434116899967194\n",
      "epoch 230 : loss = 0.22471801936626434\n",
      "epoch 232 : loss = 0.2250678688287735\n",
      "epoch 234 : loss = 0.22538593411445618\n",
      "epoch 236 : loss = 0.22566884756088257\n",
      "epoch 238 : loss = 0.22591620683670044\n",
      "epoch 240 : loss = 0.22612504661083221\n",
      "epoch 242 : loss = 0.22629457712173462\n",
      "epoch 244 : loss = 0.226421058177948\n",
      "epoch 246 : loss = 0.22650642693042755\n",
      "epoch 248 : loss = 0.226548969745636\n"
     ]
    }
   ],
   "source": [
    "from sklearn import datasets\n",
    "hidden_dim  = 1\n",
    "data = datasets.load_iris().data\n",
    "input_dim = len(data[0])\n",
    "ae = Autoencoder(input_dim,hidden_dim)\n",
    "loss_rate = ae.train(data)"
   ]
  },
  {
   "cell_type": "code",
   "execution_count": 4,
   "metadata": {
    "scrolled": false
   },
   "outputs": [
    {
     "name": "stdout",
     "output_type": "stream",
     "text": [
      "INFO:tensorflow:Restoring parameters from ./model.h5\n",
      "Input : [[6.375724, 2.8620002, 5.1783934, 1.8268261]]\n",
      "Compressed [[0.80527884]]\n",
      "reconstructed [[6.4467473 2.855989  5.3455043 1.902775 ]]\n"
     ]
    },
    {
     "data": {
      "text/plain": [
       "array([[6.4467473, 2.855989 , 5.3455043, 1.902775 ]], dtype=float32)"
      ]
     },
     "execution_count": 4,
     "metadata": {},
     "output_type": "execute_result"
    }
   ],
   "source": [
    "ae.test([[6.375724 , 2.8620002, 5.1783934, 1.8268261]])"
   ]
  },
  {
   "cell_type": "code",
   "execution_count": 6,
   "metadata": {
    "scrolled": false
   },
   "outputs": [
    {
     "data": {
      "image/png": "[encoded data removed]",
      "text/plain": [
       "<Figure size 1080x864 with 1 Axes>"
      ]
     },
     "metadata": {
      "needs_background": "light"
     },
     "output_type": "display_data"
    }
   ],
   "source": [
    "import matplotlib.pyplot as plt\n",
    "plt.figure(figsize=(15,12))\n",
    "plt.scatter(x = loss_rate , y = [i for i in range(0,len(loss_rate))])\n",
    "plt.show()"
   ]
  }
 ],
 "metadata": {
  "kernelspec": {
   "display_name": "Python 3",
   "language": "python",
   "name": "python3"
  },
  "language_info": {
   "codemirror_mode": {
    "name": "ipython",
    "version": 3
   },
   "file_extension": ".py",
   "mimetype": "text/x-python",
   "name": "python",
   "nbconvert_exporter": "python",
   "pygments_lexer": "ipython3",
   "version": "3.7.4"
  }
 },
 "nbformat": 4,
 "nbformat_minor": 2
}
